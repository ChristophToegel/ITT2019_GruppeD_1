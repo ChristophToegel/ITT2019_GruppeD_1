{
 "cells": [
  {
   "cell_type": "markdown",
   "source": [
    "# Reaction Time Analysis\n"
   ],
   "metadata": {
    "collapsed": false
   }
  },
  {
   "cell_type": "markdown",
   "source": [
    "## Study\n",
    "### Description\n",
    "In a short experiment users' reaction time to pre-attentive and attentive stimuli was recorded.\n",
    "A participant was shown 40 stimuli of either a red or blue square or an even or odd number.\n",
    "Based on the shown picture a button had to be pressed. Half of the shown pictures were presented with a visual distraction\n",
    "in order to examine its effect on the user. Reaction times were measured from the first time the stimulus was shown to the button press.\n",
    "In between shown stimuli a one seconds pause was added. A MacBook Pro 2016 13 inch was used to run the study and record the data. \n",
    "\n",
    "### Participants\n",
    "The study was conducted with 4 media informatics students. The VR04 lab, located in the Techbase Regensburg, was the experiments location\n",
    "for 3 of them, while the last run was done at the participants private home.\n"
   ],
   "metadata": {
    "collapsed": false,
    "pycharm": {
     "name": "#%% md\n"
    }
   }
  },
  {
   "cell_type": "markdown",
   "source": [
    "## Reading the data\n",
    "As a first step we import the logged data from \"reaction_time_results.csv\" which contains data for all 4 participants.\n"
   ],
   "metadata": {
    "collapsed": false
   }
  },
  {
   "cell_type": "code",
   "execution_count": null,
   "outputs": [],
   "source": [
    "# import libs\n",
    "import pandas as pd\n",
    "import matplotlib.pyplot as plt\n",
    "from matplotlib import rcParams  \n"
   ],
   "metadata": {
    "collapsed": false,
    "pycharm": {
     "name": "#%%\n"
    }
   }
  },
  {
   "cell_type": "code",
   "execution_count": 9,
   "outputs": [
    {
     "traceback": [
      "\u001b[0;31m---------------------------------------------------------------------------\u001b[0m",
      "\u001b[0;31mTypeError\u001b[0m                                 Traceback (most recent call last)",
      "\u001b[0;32m<ipython-input-9-07950c629942>\u001b[0m in \u001b[0;36m<module>\u001b[0;34m\u001b[0m\n\u001b[1;32m      3\u001b[0m \u001b[0;34m\u001b[0m\u001b[0m\n\u001b[1;32m      4\u001b[0m \u001b[0;31m# get data for every participant\u001b[0m\u001b[0;34m\u001b[0m\u001b[0;34m\u001b[0m\u001b[0m\n\u001b[0;32m----> 5\u001b[0;31m \u001b[0mdata_part_1\u001b[0m \u001b[0;34m=\u001b[0m \u001b[0mpd\u001b[0m\u001b[0;34m.\u001b[0m\u001b[0mconcat\u001b[0m\u001b[0;34m(\u001b[0m\u001b[0;34m[\u001b[0m\u001b[0mline\u001b[0m\u001b[0;34m[\u001b[0m\u001b[0mline\u001b[0m\u001b[0;34m[\u001b[0m\u001b[0;34m\"participant_id\"\u001b[0m\u001b[0;34m]\u001b[0m \u001b[0;34m==\u001b[0m \u001b[0;36m1\u001b[0m\u001b[0;34m]\u001b[0m \u001b[0;32mfor\u001b[0m \u001b[0mline\u001b[0m \u001b[0;32min\u001b[0m \u001b[0mfull_data\u001b[0m\u001b[0;34m]\u001b[0m\u001b[0;34m)\u001b[0m\u001b[0;34m\u001b[0m\u001b[0m\n\u001b[0m\u001b[1;32m      6\u001b[0m \u001b[0mdata_part_2\u001b[0m \u001b[0;34m=\u001b[0m \u001b[0mpd\u001b[0m\u001b[0;34m.\u001b[0m\u001b[0mconcat\u001b[0m\u001b[0;34m(\u001b[0m\u001b[0;34m[\u001b[0m\u001b[0mline\u001b[0m\u001b[0;34m[\u001b[0m\u001b[0mline\u001b[0m\u001b[0;34m[\u001b[0m\u001b[0;34m\"participant_id\"\u001b[0m\u001b[0;34m]\u001b[0m \u001b[0;34m==\u001b[0m \u001b[0;36m2\u001b[0m\u001b[0;34m]\u001b[0m \u001b[0;32mfor\u001b[0m \u001b[0mline\u001b[0m \u001b[0;32min\u001b[0m \u001b[0mfull_data\u001b[0m\u001b[0;34m]\u001b[0m\u001b[0;34m)\u001b[0m\u001b[0;34m\u001b[0m\u001b[0m\n\u001b[1;32m      7\u001b[0m \u001b[0mdata_part_3\u001b[0m \u001b[0;34m=\u001b[0m \u001b[0mpd\u001b[0m\u001b[0;34m.\u001b[0m\u001b[0mconcat\u001b[0m\u001b[0;34m(\u001b[0m\u001b[0;34m[\u001b[0m\u001b[0mline\u001b[0m\u001b[0;34m[\u001b[0m\u001b[0mline\u001b[0m\u001b[0;34m[\u001b[0m\u001b[0;34m\"participant_id\"\u001b[0m\u001b[0;34m]\u001b[0m \u001b[0;34m==\u001b[0m \u001b[0;36m3\u001b[0m\u001b[0;34m]\u001b[0m \u001b[0;32mfor\u001b[0m \u001b[0mline\u001b[0m \u001b[0;32min\u001b[0m \u001b[0mfull_data\u001b[0m\u001b[0;34m]\u001b[0m\u001b[0;34m)\u001b[0m\u001b[0;34m\u001b[0m\u001b[0m\n",
      "\u001b[0;32m<ipython-input-9-07950c629942>\u001b[0m in \u001b[0;36m<listcomp>\u001b[0;34m(.0)\u001b[0m\n\u001b[1;32m      3\u001b[0m \u001b[0;34m\u001b[0m\u001b[0m\n\u001b[1;32m      4\u001b[0m \u001b[0;31m# get data for every participant\u001b[0m\u001b[0;34m\u001b[0m\u001b[0;34m\u001b[0m\u001b[0m\n\u001b[0;32m----> 5\u001b[0;31m \u001b[0mdata_part_1\u001b[0m \u001b[0;34m=\u001b[0m \u001b[0mpd\u001b[0m\u001b[0;34m.\u001b[0m\u001b[0mconcat\u001b[0m\u001b[0;34m(\u001b[0m\u001b[0;34m[\u001b[0m\u001b[0mline\u001b[0m\u001b[0;34m[\u001b[0m\u001b[0mline\u001b[0m\u001b[0;34m[\u001b[0m\u001b[0;34m\"participant_id\"\u001b[0m\u001b[0;34m]\u001b[0m \u001b[0;34m==\u001b[0m \u001b[0;36m1\u001b[0m\u001b[0;34m]\u001b[0m \u001b[0;32mfor\u001b[0m \u001b[0mline\u001b[0m \u001b[0;32min\u001b[0m \u001b[0mfull_data\u001b[0m\u001b[0;34m]\u001b[0m\u001b[0;34m)\u001b[0m\u001b[0;34m\u001b[0m\u001b[0m\n\u001b[0m\u001b[1;32m      6\u001b[0m \u001b[0mdata_part_2\u001b[0m \u001b[0;34m=\u001b[0m \u001b[0mpd\u001b[0m\u001b[0;34m.\u001b[0m\u001b[0mconcat\u001b[0m\u001b[0;34m(\u001b[0m\u001b[0;34m[\u001b[0m\u001b[0mline\u001b[0m\u001b[0;34m[\u001b[0m\u001b[0mline\u001b[0m\u001b[0;34m[\u001b[0m\u001b[0;34m\"participant_id\"\u001b[0m\u001b[0;34m]\u001b[0m \u001b[0;34m==\u001b[0m \u001b[0;36m2\u001b[0m\u001b[0;34m]\u001b[0m \u001b[0;32mfor\u001b[0m \u001b[0mline\u001b[0m \u001b[0;32min\u001b[0m \u001b[0mfull_data\u001b[0m\u001b[0;34m]\u001b[0m\u001b[0;34m)\u001b[0m\u001b[0;34m\u001b[0m\u001b[0m\n\u001b[1;32m      7\u001b[0m \u001b[0mdata_part_3\u001b[0m \u001b[0;34m=\u001b[0m \u001b[0mpd\u001b[0m\u001b[0;34m.\u001b[0m\u001b[0mconcat\u001b[0m\u001b[0;34m(\u001b[0m\u001b[0;34m[\u001b[0m\u001b[0mline\u001b[0m\u001b[0;34m[\u001b[0m\u001b[0mline\u001b[0m\u001b[0;34m[\u001b[0m\u001b[0;34m\"participant_id\"\u001b[0m\u001b[0;34m]\u001b[0m \u001b[0;34m==\u001b[0m \u001b[0;36m3\u001b[0m\u001b[0;34m]\u001b[0m \u001b[0;32mfor\u001b[0m \u001b[0mline\u001b[0m \u001b[0;32min\u001b[0m \u001b[0mfull_data\u001b[0m\u001b[0;34m]\u001b[0m\u001b[0;34m)\u001b[0m\u001b[0;34m\u001b[0m\u001b[0m\n",
      "\u001b[0;31mTypeError\u001b[0m: string indices must be integers"
     ],
     "ename": "TypeError",
     "evalue": "string indices must be integers",
     "output_type": "error"
    }
   ],
   "source": [
    "# read CSV\n",
    "full_data = pd.read_csv(\"reaction_time_results.csv\", delimiter = \";\")\n",
    "\n",
    "# get data for every stimulus\n",
    "data_AD = full_data[(full_data[\"stimulus\"] == \"AD\")][\"reaction_time\"]\n",
    "data_AN = full_data[(full_data[\"stimulus\"] == \"AN\")][\"reaction_time\"]\n",
    "data_PD = full_data[(full_data[\"stimulus\"] == \"PD\")][\"reaction_time\"]\n",
    "data_PN = full_data[(full_data[\"stimulus\"] == \"PN\")][\"reaction_time\"]\n"
   ],
   "metadata": {
    "collapsed": false,
    "pycharm": {
     "name": "#%%\n",
     "is_executing": false
    }
   }
  },
  {
   "cell_type": "markdown",
   "source": [
    "## Plotting the data\n",
    "### All conditions combined\n",
    "For the first data analysis we want to plot all 4 participants on a scatter plot\n"
   ],
   "metadata": {
    "collapsed": false,
    "pycharm": {
     "name": "#%% md\n"
    }
   }
  },
  {
   "cell_type": "code",
   "execution_count": null,
   "outputs": [],
   "source": [
    "# plot configurations\n",
    "%matplotlib inline\n",
    "rcParams['figure.figsize'] = (16,9)\n",
    "\n",
    "# get y axis length\n",
    "ordinate = range(len(data_AD))\n"
   ],
   "metadata": {
    "collapsed": false,
    "pycharm": {
     "name": "#%%\n"
    }
   }
  },
  {
   "cell_type": "code",
   "execution_count": null,
   "outputs": [],
   "source": [
    "# draw graph\n",
    "# https://stackoverflow.com/questions/4270301/matplotlib-multiple-datasets-on-the-same-scatter-plot\n",
    "graph = plt.figure()\n",
    "plot_whole = graph.add_subplot(111)\n",
    "\n",
    "# add data for each participant\n",
    "plot_whole.scatter(ordinate, list(data_AD), c=\"r\",\n",
    "                   label=\"Attentive w/ distraction\")\n",
    "plot_whole.scatter(ordinate, list(data_AN), c=\"g\",\n",
    "                   label=\"Attentive w/o distraction\")\n",
    "plot_whole.scatter(ordinate, list(data_PD), c=\"b\",\n",
    "                   label=\"Pre-attentive w/ distraction\")\n",
    "plot_whole.scatter(ordinate, list(data_PN), c=\"y\",\n",
    "                   label=\"Pre-attentive w/o distraction\")\n",
    "plot_whole.title.set_text(\"All data combined\")\n",
    "plot_whole.set_xlabel(\"Trial\")\n",
    "plot_whole.set_ylabel(\"Reaction Time (s)\")\n",
    "\n",
    "# show legend\n",
    "graph.legend(loc=\"upper left\")\n"
   ],
   "metadata": {
    "collapsed": false,
    "pycharm": {
     "name": "#%% \n"
    }
   }
  },
  {
   "cell_type": "markdown",
   "source": [
    "### Each condition separate\n"
   ],
   "metadata": {
    "collapsed": false
   }
  },
  {
   "cell_type": "code",
   "execution_count": null,
   "outputs": [],
   "source": [
    "# create new figure with 4 subplots on a 2x2 grid\n",
    "graph2 = plt.figure()\n",
    "\n",
    "# norm all the y-axes\n",
    "ymax = full_data[\"reaction_time\"].max() + 1\n",
    "\n",
    "# draw graphs\n",
    "plot_11 = graph2.add_subplot(221)\n",
    "plot_11.scatter(ordinate, list(data_AD), c=\"r\") \n",
    "plot_11.title.set_text(\"Attentive w/ distraction\")\n",
    "plot_11.set_ylim([0, ymax])\n",
    "plot_11.set_ylabel(\"Reaction Time (s)\")\n",
    "\n",
    "plot_12 = graph2.add_subplot(222)\n",
    "plot_12.scatter(ordinate, list(data_AN), c=\"g\")\n",
    "plot_12.title.set_text(\"Attentive w/o distraction\")\n",
    "plot_12.set_ylim([0, ymax])\n",
    "\n",
    "plot_21 = graph2.add_subplot(223)\n",
    "plot_21.scatter(ordinate, list(data_PD), c=\"b\")\n",
    "plot_21.title.set_text(\"Pre-attentive w/ distraction\")\n",
    "plot_21.set_ylim([0, ymax])\n",
    "plot_21.set_xlabel(\"Trial\")\n",
    "plot_21.set_ylabel(\"Reaction Time (s)\")\n",
    "\n",
    "plot_22 = graph2.add_subplot(224)\n",
    "plot_22.scatter(ordinate, list(data_PN), c=\"y\")\n",
    "plot_22.title.set_text(\"Pre-attentive w/o distraction\")\n",
    "plot_22.set_ylim([0, ymax])\n",
    "plot_22.set_xlabel(\"Trial\")\n"
   ],
   "metadata": {
    "collapsed": false,
    "pycharm": {
     "name": "#%%\n"
    }
   }
  },
  {
   "cell_type": "markdown",
   "source": [
    "## Boxplots\n"
   ],
   "metadata": {
    "collapsed": false
   }
  },
  {
   "cell_type": "code",
   "execution_count": null,
   "outputs": [],
   "source": [
    "full_data.boxplot(column=\"reaction_time\", by=\"stimulus\",\n",
    "                  labels=[\"Attentive w/ distraction\",\n",
    "                          \"Attentive w/o distraction\",\n",
    "                          \"Pre-attentive w/ distraction\",\n",
    "                          \"Pre-attentive w/o distraction\"])\n"
   ],
   "metadata": {
    "collapsed": false,
    "pycharm": {
     "name": "#%%\n"
    }
   }
  },
  {
   "cell_type": "markdown",
   "source": [
    "All 4 distributions are very similar to each other. Visually prominent are the\n",
    "outliers of the AD (attentive with distraction) distribution, although they are\n",
    "not significant. \n"
   ],
   "metadata": {
    "collapsed": false
   }
  },
  {
   "cell_type": "markdown",
   "source": [
    "## T-Tests\n",
    "### t-Test results for Attentive vs Pre-attentive\n",
    "Since the data is gathered from different participants within a stimulus and the \n",
    "stimuli are recorded within the same group, the t-test for related samples is used.\n"
   ],
   "metadata": {
    "collapsed": false
   }
  },
  {
   "cell_type": "code",
   "execution_count": null,
   "outputs": [],
   "source": [
    "# import lib\n",
    "from scipy.stats import ttest_rel\n"
   ],
   "metadata": {
    "collapsed": false,
    "pycharm": {
     "name": "#%%\n"
    }
   }
  },
  {
   "cell_type": "code",
   "execution_count": null,
   "outputs": [],
   "source": [
    "#Attentive vs pre-attentive with distraction\n",
    "t_statistic_1, p_value_1 = ttest_rel(data_AD, data_PD)\n",
    "print(\"p-value: %2.30f\" %(p_value_1))\n"
   ],
   "metadata": {
    "collapsed": false,
    "pycharm": {
     "name": "#%%\n"
    }
   }
  },
  {
   "cell_type": "code",
   "execution_count": null,
   "outputs": [],
   "source": [
    "#Attentive vs pre-attentive without distraction\n",
    "t_statistic_2, p_value_2 = ttest_rel(data_AN, data_PN)\n",
    "print(\"p-value: %2.30f\" %(p_value_2))\n"
   ],
   "metadata": {
    "collapsed": false,
    "pycharm": {
     "name": "#%%\n"
    }
   }
  },
  {
   "cell_type": "markdown",
   "source": [
    "Using a significance level of 95%, no significant differences between stimuli shown \n",
    "with distraction and without distraction can be found. \n"
   ],
   "metadata": {
    "collapsed": false,
    "pycharm": {
     "name": "#%% md\n"
    }
   }
  },
  {
   "cell_type": "markdown",
   "source": [
    "### t-Test results for Distractions vs without Distractions\n"
   ],
   "metadata": {
    "collapsed": false
   }
  },
  {
   "cell_type": "code",
   "execution_count": null,
   "outputs": [],
   "source": [
    "#non-distracted vs distracted for attentive\n",
    "t_statistic_3, p_value_3 = ttest_rel(data_AD, data_AN)\n",
    "print(\"p-value: %2.30f\" %(p_value_3))\n"
   ],
   "metadata": {
    "collapsed": false,
    "pycharm": {
     "name": "#%%\n"
    }
   }
  },
  {
   "cell_type": "code",
   "execution_count": null,
   "outputs": [],
   "source": [
    "#non-distracted vs distracted for pre-attentive\n",
    "t_statistic_4, p_value_4 = ttest_rel(data_PD, data_PN)\n",
    "print(\"p-value: %2.30f\" %(p_value_4))\n"
   ],
   "metadata": {
    "collapsed": false,
    "pycharm": {
     "name": "#%%\n"
    }
   }
  },
  {
   "cell_type": "markdown",
   "source": [
    "Using a significance level of 95%, no significant differences between attentively processed\n",
    "and pre-attentively processed stimuli can be found. \n"
   ],
   "metadata": {
    "collapsed": false
   }
  },
  {
   "cell_type": "markdown",
   "source": [
    "# Results\n",
    "In contrast to previous expectations, all 4 distributions are very similar to each other.\n",
    "The statistical analysis provided here shows visually and computationally no significant\n",
    "differences between the compared groups. Neither distraction nor stimulus category effect\n",
    "the reaction times of the 4 observed participants.\n",
    "\n"
   ],
   "metadata": {
    "collapsed": false,
    "pycharm": {
     "name": "#%% md\n"
    }
   }
  }
 ],
 "metadata": {
  "kernelspec": {
   "name": "python3",
   "language": "python",
   "display_name": "Python 3"
  },
  "language_info": {
   "codemirror_mode": {
    "name": "ipython",
    "version": 2
   },
   "file_extension": ".py",
   "mimetype": "text/x-python",
   "name": "python",
   "nbconvert_exporter": "python",
   "pygments_lexer": "ipython2",
   "version": "2.7.6"
  },
  "pycharm": {
   "stem_cell": {
    "cell_type": "raw",
    "source": [],
    "metadata": {
     "collapsed": false
    }
   }
  }
 },
 "nbformat": 4,
 "nbformat_minor": 0
}