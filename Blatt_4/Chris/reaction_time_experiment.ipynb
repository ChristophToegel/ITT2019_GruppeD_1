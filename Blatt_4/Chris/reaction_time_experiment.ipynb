{
 "cells": [
  {
   "cell_type": "markdown",
   "source": [
    "# Reaction Time Analysis\n"
   ],
   "metadata": {
    "collapsed": false
   }
  },
  {
   "cell_type": "markdown",
   "source": [
    "## Study\n",
    "### Description\n",
    "In a short experiment users' reaction time to pre-attentive and attentive stimuli was recorded.\n",
    "A participant was shown 40 stimuli of either a red or blue square or an even or odd number.\n",
    "Based on the shown picture a button had to be pressed. Half of the shown pictures were presented with a visual distraction\n",
    "in order to examine its effect on the user. Reaction times were measured from the first time the stimulus was shown to the button press.\n",
    "In between shown stimuli a one seconds pause was added. A MacBook Pro 2016 13 inch was used to run the study and record the data. \n",
    "\n",
    "### Participants\n",
    "The study was conducted with 4 media informatics students. The VR04 lab, located in the Techbase Regensburg, was the experiments location\n",
    "for 3 of them, while the last run was dont at the participants private home.\n"
   ],
   "metadata": {
    "collapsed": false,
    "pycharm": {
     "name": "#%% md\n"
    }
   }
  },
  {
   "cell_type": "code",
   "execution_count": 8,
   "outputs": [],
   "source": [
    "# import libs\n",
    "import pandas as pd\n",
    "import matplotlib.pyplot as plt\n",
    "from matplotlib import rcParams  \n"
   ],
   "metadata": {
    "collapsed": false,
    "pycharm": {
     "name": "#%%\n",
     "is_executing": false
    }
   }
  },
  {
   "cell_type": "markdown",
   "source": [
    "## Reading the data\n",
    "As a first step we import the logged data from \"reaction_time_results.csv\" which contains data for all 4 participants.\n"
   ],
   "metadata": {
    "collapsed": false
   }
  },
  {
   "cell_type": "code",
   "execution_count": 9,
   "outputs": [
    {
     "traceback": [
      "\u001b[0;31m---------------------------------------------------------------------------\u001b[0m",
      "\u001b[0;31mTypeError\u001b[0m                                 Traceback (most recent call last)",
      "\u001b[0;32m<ipython-input-9-07950c629942>\u001b[0m in \u001b[0;36m<module>\u001b[0;34m\u001b[0m\n\u001b[1;32m      3\u001b[0m \u001b[0;34m\u001b[0m\u001b[0m\n\u001b[1;32m      4\u001b[0m \u001b[0;31m# get data for every participant\u001b[0m\u001b[0;34m\u001b[0m\u001b[0;34m\u001b[0m\u001b[0m\n\u001b[0;32m----> 5\u001b[0;31m \u001b[0mdata_part_1\u001b[0m \u001b[0;34m=\u001b[0m \u001b[0mpd\u001b[0m\u001b[0;34m.\u001b[0m\u001b[0mconcat\u001b[0m\u001b[0;34m(\u001b[0m\u001b[0;34m[\u001b[0m\u001b[0mline\u001b[0m\u001b[0;34m[\u001b[0m\u001b[0mline\u001b[0m\u001b[0;34m[\u001b[0m\u001b[0;34m\"participant_id\"\u001b[0m\u001b[0;34m]\u001b[0m \u001b[0;34m==\u001b[0m \u001b[0;36m1\u001b[0m\u001b[0;34m]\u001b[0m \u001b[0;32mfor\u001b[0m \u001b[0mline\u001b[0m \u001b[0;32min\u001b[0m \u001b[0mfull_data\u001b[0m\u001b[0;34m]\u001b[0m\u001b[0;34m)\u001b[0m\u001b[0;34m\u001b[0m\u001b[0m\n\u001b[0m\u001b[1;32m      6\u001b[0m \u001b[0mdata_part_2\u001b[0m \u001b[0;34m=\u001b[0m \u001b[0mpd\u001b[0m\u001b[0;34m.\u001b[0m\u001b[0mconcat\u001b[0m\u001b[0;34m(\u001b[0m\u001b[0;34m[\u001b[0m\u001b[0mline\u001b[0m\u001b[0;34m[\u001b[0m\u001b[0mline\u001b[0m\u001b[0;34m[\u001b[0m\u001b[0;34m\"participant_id\"\u001b[0m\u001b[0;34m]\u001b[0m \u001b[0;34m==\u001b[0m \u001b[0;36m2\u001b[0m\u001b[0;34m]\u001b[0m \u001b[0;32mfor\u001b[0m \u001b[0mline\u001b[0m \u001b[0;32min\u001b[0m \u001b[0mfull_data\u001b[0m\u001b[0;34m]\u001b[0m\u001b[0;34m)\u001b[0m\u001b[0;34m\u001b[0m\u001b[0m\n\u001b[1;32m      7\u001b[0m \u001b[0mdata_part_3\u001b[0m \u001b[0;34m=\u001b[0m \u001b[0mpd\u001b[0m\u001b[0;34m.\u001b[0m\u001b[0mconcat\u001b[0m\u001b[0;34m(\u001b[0m\u001b[0;34m[\u001b[0m\u001b[0mline\u001b[0m\u001b[0;34m[\u001b[0m\u001b[0mline\u001b[0m\u001b[0;34m[\u001b[0m\u001b[0;34m\"participant_id\"\u001b[0m\u001b[0;34m]\u001b[0m \u001b[0;34m==\u001b[0m \u001b[0;36m3\u001b[0m\u001b[0;34m]\u001b[0m \u001b[0;32mfor\u001b[0m \u001b[0mline\u001b[0m \u001b[0;32min\u001b[0m \u001b[0mfull_data\u001b[0m\u001b[0;34m]\u001b[0m\u001b[0;34m)\u001b[0m\u001b[0;34m\u001b[0m\u001b[0m\n",
      "\u001b[0;32m<ipython-input-9-07950c629942>\u001b[0m in \u001b[0;36m<listcomp>\u001b[0;34m(.0)\u001b[0m\n\u001b[1;32m      3\u001b[0m \u001b[0;34m\u001b[0m\u001b[0m\n\u001b[1;32m      4\u001b[0m \u001b[0;31m# get data for every participant\u001b[0m\u001b[0;34m\u001b[0m\u001b[0;34m\u001b[0m\u001b[0m\n\u001b[0;32m----> 5\u001b[0;31m \u001b[0mdata_part_1\u001b[0m \u001b[0;34m=\u001b[0m \u001b[0mpd\u001b[0m\u001b[0;34m.\u001b[0m\u001b[0mconcat\u001b[0m\u001b[0;34m(\u001b[0m\u001b[0;34m[\u001b[0m\u001b[0mline\u001b[0m\u001b[0;34m[\u001b[0m\u001b[0mline\u001b[0m\u001b[0;34m[\u001b[0m\u001b[0;34m\"participant_id\"\u001b[0m\u001b[0;34m]\u001b[0m \u001b[0;34m==\u001b[0m \u001b[0;36m1\u001b[0m\u001b[0;34m]\u001b[0m \u001b[0;32mfor\u001b[0m \u001b[0mline\u001b[0m \u001b[0;32min\u001b[0m \u001b[0mfull_data\u001b[0m\u001b[0;34m]\u001b[0m\u001b[0;34m)\u001b[0m\u001b[0;34m\u001b[0m\u001b[0m\n\u001b[0m\u001b[1;32m      6\u001b[0m \u001b[0mdata_part_2\u001b[0m \u001b[0;34m=\u001b[0m \u001b[0mpd\u001b[0m\u001b[0;34m.\u001b[0m\u001b[0mconcat\u001b[0m\u001b[0;34m(\u001b[0m\u001b[0;34m[\u001b[0m\u001b[0mline\u001b[0m\u001b[0;34m[\u001b[0m\u001b[0mline\u001b[0m\u001b[0;34m[\u001b[0m\u001b[0;34m\"participant_id\"\u001b[0m\u001b[0;34m]\u001b[0m \u001b[0;34m==\u001b[0m \u001b[0;36m2\u001b[0m\u001b[0;34m]\u001b[0m \u001b[0;32mfor\u001b[0m \u001b[0mline\u001b[0m \u001b[0;32min\u001b[0m \u001b[0mfull_data\u001b[0m\u001b[0;34m]\u001b[0m\u001b[0;34m)\u001b[0m\u001b[0;34m\u001b[0m\u001b[0m\n\u001b[1;32m      7\u001b[0m \u001b[0mdata_part_3\u001b[0m \u001b[0;34m=\u001b[0m \u001b[0mpd\u001b[0m\u001b[0;34m.\u001b[0m\u001b[0mconcat\u001b[0m\u001b[0;34m(\u001b[0m\u001b[0;34m[\u001b[0m\u001b[0mline\u001b[0m\u001b[0;34m[\u001b[0m\u001b[0mline\u001b[0m\u001b[0;34m[\u001b[0m\u001b[0;34m\"participant_id\"\u001b[0m\u001b[0;34m]\u001b[0m \u001b[0;34m==\u001b[0m \u001b[0;36m3\u001b[0m\u001b[0;34m]\u001b[0m \u001b[0;32mfor\u001b[0m \u001b[0mline\u001b[0m \u001b[0;32min\u001b[0m \u001b[0mfull_data\u001b[0m\u001b[0;34m]\u001b[0m\u001b[0;34m)\u001b[0m\u001b[0;34m\u001b[0m\u001b[0m\n",
      "\u001b[0;31mTypeError\u001b[0m: string indices must be integers"
     ],
     "ename": "TypeError",
     "evalue": "string indices must be integers",
     "output_type": "error"
    }
   ],
   "source": [
    "# read CSV\n",
    "full_data = pd.read_csv(\"reaction_time_results.csv\", delimiter = \";\")\n",
    "\n",
    "# get data for every participant\n",
    "data_AD = full_data[(full_data[\"stimulus\"] == \"AD\")]\n",
    "data_AN = full_data[(full_data[\"stimulus\"] == \"AN\")]\n",
    "data_PD = full_data[(full_data[\"stimulus\"] == \"PD\")]\n",
    "data_PN = full_data[(full_data[\"stimulus\"] == \"PN\")]\n"
   ],
   "metadata": {
    "collapsed": false,
    "pycharm": {
     "name": "#%%\n",
     "is_executing": false
    }
   }
  },
  {
   "cell_type": "markdown",
   "source": [
    "## Plotting the data\n",
    "### All conditions combined\n",
    "For the first data analysis we want to plot all 4 participants on a scatter plot\n"
   ],
   "metadata": {
    "collapsed": false,
    "pycharm": {
     "name": "#%% md\n"
    }
   }
  },
  {
   "cell_type": "code",
   "execution_count": null,
   "outputs": [],
   "source": [
    "# plot configurations\n",
    "%matplotlib inline\n",
    "rcParams['figure.figsize'] = (16,9)\n",
    "\n",
    "# get y axis length\n",
    "ordinate = range(len(data_AD))\n"
   ],
   "metadata": {
    "collapsed": false,
    "pycharm": {
     "name": "#%%\n"
    }
   }
  },
  {
   "cell_type": "code",
   "execution_count": null,
   "outputs": [],
   "source": [
    "# draw graph\n",
    "# https://stackoverflow.com/questions/4270301/matplotlib-multiple-datasets-on-the-same-scatter-plot\n",
    "graph = plt.figure()\n",
    "plot_whole = graph.add_subplot(111)\n",
    "\n",
    "# add data for each participant\n",
    "plot_whole.scatter(ordinate, list(data_AD[\"reaction_time\"]), c=\"r\", label=\"Attentive w/ distraction\")\n",
    "plot_whole.scatter(ordinate, list(data_AN[\"reaction_time\"]), c=\"g\", label=\"Attentive w/o distraction\")\n",
    "plot_whole.scatter(ordinate, list(data_PD[\"reaction_time\"]), c=\"b\", label=\"Pre-attentive w/ distraction\")\n",
    "plot_whole.scatter(ordinate, list(data_PN[\"reaction_time\"]), c=\"y\", label=\"Pre-attentive w/o distraction\")\n",
    "plot_whole.title.set_text(\"All data combined\")\n",
    "plot_whole.set_xlabel(\"Trial\")\n",
    "plot_whole.set_ylabel(\"Reaction Time (s)\")\n",
    "\n",
    "# show legend\n",
    "graph.legend(loc=\"upper left\")\n"
   ],
   "metadata": {
    "collapsed": false,
    "pycharm": {
     "name": "#%% \n"
    }
   }
  },
  {
   "cell_type": "markdown",
   "source": [
    "### Each condition separate\n"
   ],
   "metadata": {
    "collapsed": false
   }
  },
  {
   "cell_type": "code",
   "execution_count": null,
   "outputs": [],
   "source": [
    "# create new figure with 4 subplots on a 2x2 grid\n",
    "graph2 = plt.figure()\n",
    "\n",
    "# norm all the y-axes\n",
    "ymax = full_data[\"reaction_time\"].max() + 1\n",
    "\n",
    "# draw graphs\n",
    "plot_11 = graph2.add_subplot(221)\n",
    "plot_11.scatter(ordinate, list(data_AD[\"reaction_time\"]), c=\"r\") \n",
    "plot_11.title.set_text(\"Attentive w/ distraction\")\n",
    "plot_11.set_ylim([0, ymax])\n",
    "plot_11.set_ylabel(\"Reaction Time (s)\")\n",
    "\n",
    "plot_12 = graph2.add_subplot(222)\n",
    "plot_12.scatter(ordinate, list(data_AN[\"reaction_time\"]), c=\"g\")\n",
    "plot_12.title.set_text(\"Attentive w/o distraction\")\n",
    "plot_12.set_ylim([0, ymax])\n",
    "\n",
    "plot_21 = graph2.add_subplot(223)\n",
    "plot_21.scatter(ordinate, list(data_PD[\"reaction_time\"]), c=\"b\")\n",
    "plot_21.title.set_text(\"Pre-attentive w/ distraction\")\n",
    "plot_21.set_ylim([0, ymax])\n",
    "plot_21.set_xlabel(\"Trial\")\n",
    "plot_21.set_ylabel(\"Reaction Time (s)\")\n",
    "\n",
    "plot_22 = graph2.add_subplot(224)\n",
    "plot_22.scatter(ordinate, list(data_PN[\"reaction_time\"]), c=\"y\")\n",
    "plot_22.title.set_text(\"Pre-attentive w/o distraction\")\n",
    "plot_22.set_ylim([0, ymax])\n",
    "plot_22.set_xlabel(\"Trial\")\n",
    "\n"
   ],
   "metadata": {
    "collapsed": false,
    "pycharm": {
     "name": "#%%\n"
    }
   }
  }
 ],
 "metadata": {
  "kernelspec": {
   "name": "python3",
   "language": "python",
   "display_name": "Python 3"
  },
  "language_info": {
   "codemirror_mode": {
    "name": "ipython",
    "version": 2
   },
   "file_extension": ".py",
   "mimetype": "text/x-python",
   "name": "python",
   "nbconvert_exporter": "python",
   "pygments_lexer": "ipython2",
   "version": "2.7.6"
  },
  "pycharm": {
   "stem_cell": {
    "cell_type": "raw",
    "source": [],
    "metadata": {
     "collapsed": false
    }
   }
  }
 },
 "nbformat": 4,
 "nbformat_minor": 0
}